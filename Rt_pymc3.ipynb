{
 "cells": [
  {
   "cell_type": "markdown",
   "metadata": {},
   "source": [
    "# Estimating COVID-19's $R_t$ in Real-Time - MCMC\n",
    "Kevin Systrom - April 12"
   ]
  },
  {
   "cell_type": "code",
   "execution_count": null,
   "metadata": {},
   "outputs": [],
   "source": [
    "import pandas as pd\n",
    "import numpy as np\n",
    "\n",
    "from matplotlib import pyplot as plt\n",
    "\n",
    "import pymc3 as pm\n",
    "\n",
    "FILTERED_REGIONS = [\n",
    "    'Virgin Islands',\n",
    "    'American Samoa',\n",
    "    'Northern Mariana Islands',\n",
    "    'Guam',\n",
    "    'Puerto Rico']\n",
    "\n",
    "%config InlineBackend.figure_format = 'retina'"
   ]
  },
  {
   "cell_type": "code",
   "execution_count": null,
   "metadata": {},
   "outputs": [],
   "source": [
    "url = 'https://raw.githubusercontent.com/nytimes/covid-19-data/master/us-states.csv'\n",
    "states = pd.read_csv(url,\n",
    "                     usecols=[0,1,3],\n",
    "                     index_col=['state', 'date'],\n",
    "                     parse_dates=['date'],\n",
    "                     squeeze=True).sort_index()"
   ]
  },
  {
   "cell_type": "code",
   "execution_count": null,
   "metadata": {},
   "outputs": [],
   "source": [
    "state_name = 'California'\n",
    "\n",
    "def prepare_cases(cases):\n",
    "    new_cases = cases.diff()\n",
    "\n",
    "    smoothed = new_cases.rolling(7,\n",
    "        win_type='gaussian',\n",
    "        min_periods=1,\n",
    "        center=True).mean(std=2).round()\n",
    "    \n",
    "    zeros = smoothed.index[smoothed.eq(0)]\n",
    "    if len(zeros) == 0:\n",
    "        idx_start = 0\n",
    "    else:\n",
    "        last_zero = zeros.max()\n",
    "        idx_start = smoothed.index.get_loc(last_zero) + 1\n",
    "    smoothed = smoothed.iloc[idx_start:]\n",
    "    original = new_cases.loc[smoothed.index]\n",
    "    \n",
    "    return original, smoothed\n",
    "\n",
    "cases = states.xs(state_name).rename(f\"{state_name} cases\")\n",
    "\n",
    "original, smoothed = prepare_cases(cases)"
   ]
  },
  {
   "cell_type": "code",
   "execution_count": null,
   "metadata": {},
   "outputs": [],
   "source": [
    "original = original.clip(1)"
   ]
  },
  {
   "cell_type": "code",
   "execution_count": null,
   "metadata": {},
   "outputs": [],
   "source": [
    "smoothed = smoothed.iloc[10:]"
   ]
  },
  {
   "cell_type": "code",
   "execution_count": null,
   "metadata": {},
   "outputs": [],
   "source": [
    "def lambda_to_rt(λ, k, γ=4):\n",
    "    k_tm1 = k.iloc[:-1].values\n",
    "    λ = λ[1:]\n",
    "    return pm.math.log(λ / k_tm1) / γ + 1"
   ]
  },
  {
   "cell_type": "code",
   "execution_count": null,
   "metadata": {},
   "outputs": [],
   "source": [
    "with pm.Model() as model:\n",
    "    step_width = pm.HalfNormal('step_width', sigma=100.)\n",
    "    \n",
    "    lam = pm.GaussianRandomWalk('lambda',\n",
    "                               mu=0,\n",
    "                               sigma=step_width,\n",
    "                               shape=len(smoothed),\n",
    "                               testval=smoothed.values)\n",
    "    \n",
    "    pm.Deterministic('Rt', lambda_to_rt(lam, smoothed))\n",
    "    \n",
    "    pm.Poisson('obs', lam, observed=smoothed.values)\n",
    "    \n",
    "    trace = pm.sample(cores=1, tune=1000, target_accept=0.95)"
   ]
  },
  {
   "cell_type": "code",
   "execution_count": null,
   "metadata": {},
   "outputs": [],
   "source": [
    "pm.traceplot(trace);"
   ]
  },
  {
   "cell_type": "code",
   "execution_count": null,
   "metadata": {},
   "outputs": [],
   "source": [
    "plt.plot(np.log(trace['lambda'].T), alpha=.01, color='0.5')\n",
    "plt.plot(np.log(smoothed.values))\n",
    "plt.ylabel('$log(\\lambda)$');"
   ]
  },
  {
   "cell_type": "code",
   "execution_count": null,
   "metadata": {},
   "outputs": [],
   "source": [
    "fig, ax = plt.subplots()\n",
    "\n",
    "ax.plot(trace['Rt'].T, alpha=.01, color='.5', lw=1);\n",
    "ax.set_ylabel('$R_{t}$');\n",
    "ax.set_ylim(.8, 1.3)\n",
    "ax.axhline(1.0, c='k', linestyle=\":\")"
   ]
  }
 ],
 "metadata": {
  "kernelspec": {
   "display_name": "Python 3",
   "language": "python",
   "name": "python3"
  },
  "language_info": {
   "codemirror_mode": {
    "name": "ipython",
    "version": 3
   },
   "file_extension": ".py",
   "mimetype": "text/x-python",
   "name": "python",
   "nbconvert_exporter": "python",
   "pygments_lexer": "ipython3",
   "version": "3.7.7"
  }
 },
 "nbformat": 4,
 "nbformat_minor": 4
}
